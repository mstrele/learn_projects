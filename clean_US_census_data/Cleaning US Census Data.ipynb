{
 "cells": [
  {
   "cell_type": "markdown",
   "metadata": {},
   "source": [
    "# Cleaning US Census Data"
   ]
  },
  {
   "cell_type": "markdown",
   "metadata": {},
   "source": [
    "Census Bureau collects census data and creates interesting visualizations and insights from it.\n",
    "\n",
    "You have the data they had for the most recent census. It is in multiple `csv` files. They didn't use pandas, they would just look through these `csv` files manually whenever they wanted to find something. \n",
    "\n"
   ]
  },
  {
   "cell_type": "markdown",
   "metadata": {},
   "source": [
    "Inspect this data once we have it in a DataFrame. "
   ]
  },
  {
   "cell_type": "code",
   "execution_count": 35,
   "metadata": {},
   "outputs": [],
   "source": [
    "import pandas as pd\n",
    "import numpy as np\n",
    "import matplotlib.pyplot as plt\n",
    "import glob \n",
    "\n",
    "us_files = glob.glob(\"states*.csv\")\n",
    "\n",
    "df_list = []\n",
    "\n",
    "for files in us_files:\n",
    "  data = pd.read_csv(files)\n",
    "  df_list.append(data)\n",
    "\n",
    "us_census = pd.concat(df_list)\n",
    " "
   ]
  },
  {
   "cell_type": "markdown",
   "metadata": {},
   "source": [
    "Look at the `columns` and the `dtypes` of the `us_census` DataFrame. "
   ]
  },
  {
   "cell_type": "code",
   "execution_count": 36,
   "metadata": {},
   "outputs": [
    {
     "name": "stdout",
     "output_type": "stream",
     "text": [
      "   Unnamed: 0       State  TotalPop Hispanic   White   Black  Native   Asian  \\\n",
      "0           0     Alabama   4830620    3.75%  61.88%  31.25%   0.45%   1.05%   \n",
      "1           1      Alaska    733375    5.91%  60.91%   2.85%  16.39%   5.45%   \n",
      "2           2     Arizona   6641928   29.57%  57.12%   3.85%   4.36%   2.88%   \n",
      "3           3    Arkansas   2958208    6.22%  71.14%  18.97%   0.52%   1.14%   \n",
      "4           4  California  38421464   37.29%  40.22%   5.68%   0.41%  13.05%   \n",
      "\n",
      "  Pacific       Income            GenderPop  \n",
      "0   0.03%  $43,296.36     2341093M_2489527F  \n",
      "1   1.06%  $70,354.74       384160M_349215F  \n",
      "2   0.17%  $54,207.82     3299088M_3342840F  \n",
      "3   0.15%  $41,935.63     1451913M_1506295F  \n",
      "4   0.35%  $67,264.78   19087135M_19334329F  \n"
     ]
    }
   ],
   "source": [
    "print(us_census.head(5))\n",
    "#print(us_census.columns)\n",
    "#print(us_census.dtypes)"
   ]
  },
  {
   "cell_type": "markdown",
   "metadata": {},
   "source": [
    "## Regex to the Rescue"
   ]
  },
  {
   "cell_type": "markdown",
   "metadata": {},
   "source": [
    "Use regex to turn the `Income` column into a format that is ready for conversion into a numerical type."
   ]
  },
  {
   "cell_type": "code",
   "execution_count": 37,
   "metadata": {},
   "outputs": [
    {
     "name": "stdout",
     "output_type": "stream",
     "text": [
      "   Unnamed: 0       State  TotalPop Hispanic   White   Black  Native   Asian  \\\n",
      "0           0     Alabama   4830620    3.75%  61.88%  31.25%   0.45%   1.05%   \n",
      "1           1      Alaska    733375    5.91%  60.91%   2.85%  16.39%   5.45%   \n",
      "2           2     Arizona   6641928   29.57%  57.12%   3.85%   4.36%   2.88%   \n",
      "3           3    Arkansas   2958208    6.22%  71.14%  18.97%   0.52%   1.14%   \n",
      "4           4  California  38421464   37.29%  40.22%   5.68%   0.41%  13.05%   \n",
      "\n",
      "  Pacific    Income            GenderPop  \n",
      "0   0.03%  43296.36    2341093M_2489527F  \n",
      "1   1.06%  70354.74      384160M_349215F  \n",
      "2   0.17%  54207.82    3299088M_3342840F  \n",
      "3   0.15%  41935.63    1451913M_1506295F  \n",
      "4   0.35%  67264.78  19087135M_19334329F  \n"
     ]
    }
   ],
   "source": [
    "us_census['Income']  = us_census['Income'].replace('[\\$,]', '', regex=True)\n",
    "us_census['Income'] = pd.to_numeric(us_census['Income'])\n",
    "#print(us_census.dtypes)\n",
    "print(us_census.head(5))"
   ]
  },
  {
   "cell_type": "markdown",
   "metadata": {},
   "source": [
    "Look at the `GenderPop` column. We are going to want to separate this into two columns, the `Men` column, and the `Women` column and convert both of the columns into numerical datatypes.\n"
   ]
  },
  {
   "cell_type": "code",
   "execution_count": 38,
   "metadata": {},
   "outputs": [],
   "source": [
    "gender_split = us_census.GenderPop.str.split(\"_\")\n",
    "\n",
    "us_census[\"Men\"] = gender_split.str.get(0)\n",
    "us_census[\"Women\"] = gender_split.str.get(-1)\n",
    "\n",
    "us_census['Men']  = us_census['Men'].replace('[M,]', '', regex=True)\n",
    "us_census['Women']  = us_census['Women'].replace('[F,]', '', regex=True)\n",
    "\n",
    "us_census['Men'] = pd.to_numeric(us_census['Men'])\n",
    "us_census['Women'] = pd.to_numeric(us_census['Women'])\n",
    "#we don't need the following column anymore\n",
    "del us_census[\"GenderPop\"]\n",
    "\n",
    "#delete Unnamed: 0 since it duplicates ids and provides no useful info\n",
    "del us_census[\"Unnamed: 0\"]"
   ]
  },
  {
   "cell_type": "markdown",
   "metadata": {},
   "source": [
    "Check the table for NaN values"
   ]
  },
  {
   "cell_type": "code",
   "execution_count": 39,
   "metadata": {},
   "outputs": [],
   "source": [
    "us_census['Women'] = us_census.Women.fillna(us_census.TotalPop - us_census.Men)\n",
    "#check the result\n",
    "#print(us_census.Women.isna())\n",
    "#print(us_census.head(5))"
   ]
  },
  {
   "cell_type": "markdown",
   "metadata": {},
   "source": [
    "We forgot to check for duplicates! "
   ]
  },
  {
   "cell_type": "code",
   "execution_count": 47,
   "metadata": {},
   "outputs": [
    {
     "name": "stdout",
     "output_type": "stream",
     "text": [
      "False    51\n",
      "dtype: int64\n",
      "False    51\n",
      "dtype: int64\n"
     ]
    }
   ],
   "source": [
    "duplicated = us_census.duplicated()\n",
    "print(duplicated.value_counts())\n",
    "\n",
    "us_census = us_census.drop_duplicates(subset=['State']).reset_index(drop = True)\n",
    "duplicated1 = us_census.duplicated()\n",
    "print(duplicated1.value_counts())"
   ]
  },
  {
   "cell_type": "markdown",
   "metadata": {},
   "source": [
    "Make the scatterplot."
   ]
  },
  {
   "cell_type": "code",
   "execution_count": 48,
   "metadata": {},
   "outputs": [
    {
     "data": {
      "image/png": "[encoded data removed]",
      "text/plain": [
       "<Figure size 432x288 with 1 Axes>"
      ]
     },
     "metadata": {
      "needs_background": "light"
     },
     "output_type": "display_data"
    }
   ],
   "source": [
    "plt.scatter(us_census['Women'], us_census['Income']) \n",
    "plt.show()"
   ]
  },
  {
   "cell_type": "markdown",
   "metadata": {},
   "source": [
    "Clear the race data that you have. "
   ]
  },
  {
   "cell_type": "code",
   "execution_count": 42,
   "metadata": {},
   "outputs": [],
   "source": [
    "colmns_to_rep = ['Hispanic','White','Black','Native','Asian','Pacific']\n",
    "us_census[colmns_to_rep]  = us_census[colmns_to_rep].replace('[\\%,]', '', regex=True)\n",
    "us_census[colmns_to_rep] = us_census[colmns_to_rep].apply(pd.to_numeric, errors='coerce')"
   ]
  },
  {
   "cell_type": "markdown",
   "metadata": {},
   "source": [
    "      \n",
    "  Fill the NaN values with something that makes sense! "
   ]
  },
  {
   "cell_type": "code",
   "execution_count": 43,
   "metadata": {},
   "outputs": [
    {
     "name": "stdout",
     "output_type": "stream",
     "text": [
      "False    47\n",
      "True      4\n",
      "Name: Pacific, dtype: int64\n",
      "False    51\n",
      "Name: Pacific, dtype: int64\n",
      "Index(['State', 'TotalPop', 'Hispanic', 'White', 'Black', 'Native', 'Asian',\n",
      "       'Pacific', 'Income', 'Men', 'Women'],\n",
      "      dtype='object')\n"
     ]
    }
   ],
   "source": [
    "#check NaN values in the columns one by one\n",
    "na = us_census.Pacific.isna()\n",
    "print(na.value_counts())\n",
    "\n",
    "#fill in the NaN values with the race percent difference\n",
    "us_census['Pacific'] = us_census.Pacific.fillna(100 - us_census.Hispanic - us_census.White - us_census.Black - us_census.Native - us_census.Asian)\n",
    "na_1 = us_census.Pacific.isna()\n",
    "print(na_1.value_counts())\n",
    "print(us_census.columns)"
   ]
  },
  {
   "cell_type": "markdown",
   "metadata": {},
   "source": [
    "Reshape the df and visuakise the results."
   ]
  },
  {
   "cell_type": "code",
   "execution_count": 44,
   "metadata": {},
   "outputs": [
    {
     "name": "stdout",
     "output_type": "stream",
     "text": [
      "                  State  TotalPop    Income       Men       Women      race  \\\n",
      "0               Alabama   4830620  43296.36   2341093   2489527.0  Hispanic   \n",
      "1                Alaska    733375  70354.74    384160    349215.0  Hispanic   \n",
      "2               Arizona   6641928  54207.82   3299088   3342840.0  Hispanic   \n",
      "3              Arkansas   2958208  41935.63   1451913   1506295.0  Hispanic   \n",
      "4            California  38421464  67264.78  19087135  19334329.0  Hispanic   \n",
      "5              Colorado   5278906  64657.80   2648667   2630239.0  Hispanic   \n",
      "6           Connecticut   3593222  76146.56   1751607   1841615.0  Hispanic   \n",
      "7              Delaware    926454  61827.98    448413    478041.0  Hispanic   \n",
      "8  District of Columbia    647484  75466.36    306674    340810.0  Hispanic   \n",
      "9               Florida  19645772  50690.19   9600009  10045763.0  Hispanic   \n",
      "\n",
      "   percent_pop  \n",
      "0         3.75  \n",
      "1         5.91  \n",
      "2        29.57  \n",
      "3         6.22  \n",
      "4        37.29  \n",
      "5        20.78  \n",
      "6        15.60  \n",
      "7         8.82  \n",
      "8         9.17  \n",
      "9        21.34  \n",
      "              State  TotalPop    Income       Men       Women     race  \\\n",
      "296  South Carolina   4777576  46296.81   2322409   2455167.0  Pacific   \n",
      "297    South Dakota    843190  51805.41    423477    419713.0  Pacific   \n",
      "298       Tennessee   6499615  47328.08   3167756   3331859.0  Pacific   \n",
      "299           Texas  26538614  55874.52  13171316  13367298.0  Pacific   \n",
      "300            Utah   2903379  63488.92   1459229   1444150.0  Pacific   \n",
      "301         Vermont    626604  55602.97    308573    318031.0  Pacific   \n",
      "302        Virginia   8256630  72866.01   4060948   4195682.0  Pacific   \n",
      "303      Washington   6985464  64493.77   3487725   3497739.0  Pacific   \n",
      "304   West Virginia   1851420  41437.11    913631    937789.0  Pacific   \n",
      "305       Wisconsin   5742117  53898.89   2851385   2890732.0  Pacific   \n",
      "\n",
      "     percent_pop  \n",
      "296         0.05  \n",
      "297         0.04  \n",
      "298         0.04  \n",
      "299         0.07  \n",
      "300         0.83  \n",
      "301         0.03  \n",
      "302         0.06  \n",
      "303         0.61  \n",
      "304         0.03  \n",
      "305         0.02  \n"
     ]
    }
   ],
   "source": [
    "#reshape the df\n",
    "us_census = pd.melt(frame = us_census, id_vars = [\"State\",\"TotalPop\", \"Income\", \"Men\", \"Women\"], value_vars = ['Hispanic', 'White', 'Black', 'Native', 'Asian',\n",
    "       'Pacific'], value_name = \"percent_pop\", var_name = \"race\")\n",
    "\n",
    "print(us_census.head(10))\n",
    "print(us_census.tail(10))\n"
   ]
  },
  {
   "cell_type": "code",
   "execution_count": 52,
   "metadata": {},
   "outputs": [
    {
     "data": {
      "image/png": "[encoded data removed]",
      "text/plain": [
       "<Figure size 432x288 with 1 Axes>"
      ]
     },
     "metadata": {
      "needs_background": "light"
     },
     "output_type": "display_data"
    },
    {
     "data": {
      "text/plain": [
       "<Figure size 432x288 with 0 Axes>"
      ]
     },
     "metadata": {},
     "output_type": "display_data"
    }
   ],
   "source": [
    "plt.scatter(us_census.Women, us_census.Income)\n",
    "plt.title(\"Women's income\")\n",
    "plt.xlabel(\"Women population (millions)\")\n",
    "plt.ylabel(\"Income ($)\")\n",
    "x = [0, 5 * 10**6,10 * 10**6, 15 * 10**6, 20 * 10**6]\n",
    "labels = [0, 5, 10, 15, 20]\n",
    "plt.xticks(x, labels)\n",
    "plt.show()\n",
    "plt.clf()"
   ]
  }
 ],
 "metadata": {
  "interpreter": {
   "hash": "6d1e45cadc3597bb8b6600530fbdf8c3eefe919a24ef54d9d32b318795b772e0"
  },
  "kernelspec": {
   "display_name": "Python 3.8.0 32-bit",
   "language": "python",
   "name": "python3"
  },
  "language_info": {
   "codemirror_mode": {
    "name": "ipython",
    "version": 3
   },
   "file_extension": ".py",
   "mimetype": "text/x-python",
   "name": "python",
   "nbconvert_exporter": "python",
   "pygments_lexer": "ipython3",
   "version": "3.8.0"
  }
 },
 "nbformat": 4,
 "nbformat_minor": 2
}
