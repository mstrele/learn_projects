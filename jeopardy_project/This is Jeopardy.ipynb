{
 "cells": [
  {
   "cell_type": "markdown",
   "metadata": {},
   "source": [
    "# This is Jeopardy!"
   ]
  },
  {
   "cell_type": "markdown",
   "metadata": {},
   "source": [
    "#### Overview"
   ]
  },
  {
   "cell_type": "markdown",
   "metadata": {},
   "source": [
    "This project is slightly different than others you have encountered thus far. Instead of a step-by-step tutorial, this project contains a series of open-ended requirements which describe the project you'll be building. There are many possible ways to correctly fulfill all of these requirements, and you should expect to use the internet, Codecademy, and/or other resources when you encounter a problem that you cannot easily solve."
   ]
  },
  {
   "cell_type": "markdown",
   "metadata": {},
   "source": [
    "#### Project Goals"
   ]
  },
  {
   "cell_type": "markdown",
   "metadata": {},
   "source": [
    "You will work to write several functions that investigate a dataset of _Jeopardy!_ questions and answers. Filter the dataset for topics that you're interested in, compute the average difficulty of those questions, and train to become the next Jeopardy champion!"
   ]
  },
  {
   "cell_type": "code",
   "execution_count": 62,
   "metadata": {},
   "outputs": [
    {
     "name": "stdout",
     "output_type": "stream",
     "text": [
      "        show_number    air_date             round                category  \\\n",
      "216920         4999  2006-05-11  Double Jeopardy!               \"T\" BIRDS   \n",
      "216921         4999  2006-05-11  Double Jeopardy!  AUTHORS IN THEIR YOUTH   \n",
      "216922         4999  2006-05-11  Double Jeopardy!              QUOTATIONS   \n",
      "216923         4999  2006-05-11  Double Jeopardy!          WORLD CAPITALS   \n",
      "216924         4999  2006-05-11  Double Jeopardy!            OFF-BROADWAY   \n",
      "216925         4999  2006-05-11  Double Jeopardy!          RIDDLE ME THIS   \n",
      "216926         4999  2006-05-11  Double Jeopardy!               \"T\" BIRDS   \n",
      "216927         4999  2006-05-11  Double Jeopardy!  AUTHORS IN THEIR YOUTH   \n",
      "216928         4999  2006-05-11  Double Jeopardy!              QUOTATIONS   \n",
      "216929         4999  2006-05-11   Final Jeopardy!          HISTORIC NAMES   \n",
      "\n",
      "        value  \\\n",
      "216920  $1600   \n",
      "216921  $1600   \n",
      "216922  $1600   \n",
      "216923  $2000   \n",
      "216924  $2000   \n",
      "216925  $2000   \n",
      "216926  $2000   \n",
      "216927  $2000   \n",
      "216928  $2000   \n",
      "216929   None   \n",
      "\n",
      "                                                                                                                                                                               question  \\\n",
      "216920                                                                                                               Nightingales & robins belong to this family of melodious songbirds   \n",
      "216921                                                                                        Her hotsy-totsy diaries trace back to one she began as an 11-year-old aboard ship in 1914   \n",
      "216922                                                                  A motto of hers was \"in politics, if you want anything said, ask a man; if you want anything done, ask a woman\"   \n",
      "216923                                                                                                                                                       It's on the Suriname River   \n",
      "216924  In 2006 the cast of this long-running hit embarked on <a href=\"http://www.j-archive.com/media/2006-05-11_DJ_26.wmv\">an exuberant & noisy campaign</a> to clean up New York City   \n",
      "216925                                                                                                       This Puccini opera turns on the solution to 3 riddles posed by the heroine   \n",
      "216926                                                                          In North America this term is properly applied to only 4 species that are crested, including the tufted   \n",
      "216927                                                                        In Penny Lane, where this \"Hellraiser\" grew up, the barber shaves another customer--then flays him alive!   \n",
      "216928                                                           From Ft. Sill, Okla. he made the plea, Arizona is my land, my home, my father's land, to which I now ask to... return\"   \n",
      "216929                                                                          A silent movie title includes the last name of this 18th c. statesman & favorite of Catherine the Great   \n",
      "\n",
      "                                answer  \n",
      "216920                        thrushes  \n",
      "216921                       Anaïs Nin  \n",
      "216922             (Margaret) Thatcher  \n",
      "216923                      Paramaribo  \n",
      "216924                           Stomp  \n",
      "216925                        Turandot  \n",
      "216926                      a titmouse  \n",
      "216927                    Clive Barker  \n",
      "216928                        Geronimo  \n",
      "216929  Grigori Alexandrovich Potemkin  \n"
     ]
    }
   ],
   "source": [
    "import pandas as pd\n",
    "import datetime\n",
    "import random\n",
    "\n",
    "pd.set_option('display.max_colwidth', None)\n",
    "\n",
    "df = pd.read_csv('jeopardy.csv')\n",
    "df=df.rename(columns={\"Show Number\":\"show_number\", \" Air Date\": \"air_date\", \" Round\":\"round\", \" Category\":\"category\", \" Value\":\"value\", \" Question\":\"question\", \" Answer\":\"answer\"})\n",
    "\n",
    "#print(df.head(10))\n",
    "print(df.tail(10))\n",
    "#print(df.describe())"
   ]
  },
  {
   "cell_type": "markdown",
   "metadata": {},
   "source": []
  },
  {
   "cell_type": "markdown",
   "metadata": {},
   "source": [
    "2. Write a function that filters the dataset for questions that contains all of the words in a list of words. For example, when the list `[\"King\", \"England\"]` was passed to our function, the function returned a DataFrame of 49 rows. Every row had the strings `\"King\"` and `\"England\"` somewhere in its `\" Question\"`.\n",
    "\n",
    "   Test your function by printing out the column containing the question of each row of the dataset."
   ]
  },
  {
   "cell_type": "code",
   "execution_count": 3,
   "metadata": {},
   "outputs": [
    {
     "name": "stdout",
     "output_type": "stream",
     "text": [
      "49\n"
     ]
    }
   ],
   "source": [
    "def filter_info(df, lst):\n",
    "    fltr = lambda x: all(word in x for word in lst)\n",
    "\n",
    "    return df.loc[df[\"question\"].apply(fltr)]\n",
    "\n",
    "filtered = filter_info(df, [\"King\", \"England\"])\n",
    "print(len(filtered[\"question\"]))"
   ]
  },
  {
   "cell_type": "markdown",
   "metadata": {},
   "source": [
    "3. Test your original function with a few different sets of words to try to find some ways your function breaks. Edit your function so it is more robust.\n",
    "\n",
    "   For example, think about capitalization. We probably want to find questions that contain the word `\"King\"` or `\"king\"`.\n",
    "   \n",
    "   You may also want to check to make sure you don't find rows that contain substrings of your given words. For example, our function found a question that didn't contain the word `\"king\"`, however it did contain the word `\"viking\"` &mdash; it found the `\"king\"` inside `\"viking\"`. Note that this also comes with some drawbacks &mdash; you would no longer find questions that contained words like `\"England's\"`."
   ]
  },
  {
   "cell_type": "code",
   "execution_count": 4,
   "metadata": {},
   "outputs": [
    {
     "name": "stdout",
     "output_type": "stream",
     "text": [
      "152\n"
     ]
    }
   ],
   "source": [
    "def filter_info(df, lst):\n",
    "    fltr = lambda x: all(word.lower() in x.lower() for word in lst)\n",
    "\n",
    "    return df.loc[df[\"question\"].apply(fltr)]\n",
    "\n",
    "filtered = filter_info(df, [\"King\", \"England\"])\n",
    "print(len(filtered[\"question\"]))\n",
    "\n"
   ]
  },
  {
   "cell_type": "markdown",
   "metadata": {},
   "source": [
    "4. We may want to eventually compute aggregate statistics, like `.mean()` on the `\" Value\"` column. But right now, the values in that column are strings. Convert the`\" Value\"` column to floats. If you'd like to, you can create a new column with float values.\n",
    "\n",
    "   Now that you can filter the dataset of question, use your new column that contains the float values of each question to find the \"difficulty\" of certain topics. For example, what is the average value of questions that contain the word `\"King\"`?\n",
    "   \n",
    "   Make sure to use the dataset that contains the float values as the dataset you use in your filtering function."
   ]
  },
  {
   "cell_type": "code",
   "execution_count": 5,
   "metadata": {},
   "outputs": [
    {
     "name": "stdout",
     "output_type": "stream",
     "text": [
      "771.8833850722094\n"
     ]
    }
   ],
   "source": [
    "df[\"float_values\"] = df[\"value\"].apply(lambda x: float(x[1:].replace(',','')) if x != \"None\" else 0)\n",
    "\n",
    "#print(df['float_values'])\n",
    "\n",
    "filtered = filter_info(df,[\"King\"])\n",
    "print(filtered[\"float_values\"].mean())"
   ]
  },
  {
   "cell_type": "markdown",
   "metadata": {},
   "source": [
    "5. Write a function that returns the count of unique answers to all of the questions in a dataset. For example, after filtering the entire dataset to only questions containing the word `\"King\"`, we could then find all of the unique answers to those questions. The answer \"Henry VIII\" appeared 55 times and was the most common answer."
   ]
  },
  {
   "cell_type": "code",
   "execution_count": 12,
   "metadata": {},
   "outputs": [],
   "source": [
    "def unique_count(df,column):#returns the unique answers \n",
    "    return df[column].unique()\n",
    "\n",
    "#test\n",
    "u_ans = unique_count(filtered, \"answer\")\n",
    "#print(u_ans)\n",
    "\n",
    "\n",
    "\n",
    "def answer_count(df, column):#counts the unique answers\n",
    "    return df[column].value_counts()\n",
    "\n",
    "#test\n",
    "#print(answer_count(filtered, \"answer\"))\n",
    "\n",
    "\n"
   ]
  },
  {
   "cell_type": "markdown",
   "metadata": {},
   "source": [
    "6. Explore from here! This is an incredibly rich dataset, and there are so many interesting things to discover. There are a few columns that we haven't even started looking at yet. Here are some ideas on ways to continue working with this data:\n",
    "\n",
    " * Investigate the ways in which questions change over time by filtering by the date. How many questions from the 90s use the word `\"Computer\"` compared to questions from the 2000s?\n",
    "\n",
    " * Build a system to quiz yourself. Grab random questions and get a response from the user. Check to see if that response was right or wrong."
   ]
  },
  {
   "cell_type": "code",
   "execution_count": 36,
   "metadata": {},
   "outputs": [
    {
     "name": "stdout",
     "output_type": "stream",
     "text": [
      "93\n",
      "327\n"
     ]
    }
   ],
   "source": [
    "filtered_comp = filter_info(df, [\"Computer\"])# create a df filtered by \"computer\"\n",
    "\n",
    "df['air_date'] = pd.to_datetime(df['air_date'])# convert a string into date\n",
    "#print(filtered_comp)\n",
    "\n",
    "#finds the number of quetions containing 'computer' in the 90s \n",
    "computer_90s = filtered_comp[(filtered_comp['air_date'] > '1990-12-31') & (filtered_comp['air_date'] < '2000-01-01')]\n",
    "\n",
    "print(len(computer_90s))\n",
    "#finds the number of quetions containing 'computer' in the 00s \n",
    "computer_2000s = filtered_comp[(filtered_comp['air_date'] >= '2000-01-01')]\n",
    "print(len(computer_2000s))"
   ]
  },
  {
   "cell_type": "markdown",
   "metadata": {},
   "source": [
    "### Build a system to quiz yourself"
   ]
  },
  {
   "cell_type": "code",
   "execution_count": 70,
   "metadata": {},
   "outputs": [
    {
     "name": "stdout",
     "output_type": "stream",
     "text": [
      "On May 6, 2000 the 2 writers of this 1997 movie joined a rally trying to get the janitors at Harvard a raise\n",
      "Close enough. Check our suggestion: Good Will Hunting (Ben Affleck & Matt Damon)\n",
      "In England these breakfast items are traditionally eaten on Shrove Tuesday\n",
      "Close enough. Check our suggestion: pancakes\n",
      "Writing on the wall breaks up party\n",
      "Close enough. Check our suggestion: Daniel\n",
      "(<a href=\"http://www.j-archive.com/media/2006-07-26_DJ_04.jpg\" target=\"_blank\">Jon of the Clue Crew indicates a balance on a monitor.</a>)  With the torque pushing the bar clockwise equal to the torque pushing it counterclockwise, the bar is in the rotational type of this\n",
      "Close enough. Check our suggestion: equilibrium\n",
      "In \"The Jungle Book\", this character is referred to as \"the frog\" due to his hairlessness\n",
      "Close enough. Check our suggestion: Mowgli\n"
     ]
    }
   ],
   "source": [
    "def quiz(df):\n",
    "    continue_game = 'Yes'\n",
    "    \n",
    "    while (continue_game == 'Yes'):\n",
    "        rd_index = random.randint(0, 216930)\n",
    "        question = df.question.iloc[rd_index]\n",
    "        answer = df.answer.iloc[rd_index]\n",
    "        print(question)\n",
    "        answer_input = input('Type your answer')\n",
    "        if answer.lower() == answer_input.lower():\n",
    "            print(\"You got it! The answer is {i}\".format(i=answer))\n",
    "          \n",
    "            continue_game = input('Want to continue? Enter Yes or No: ')\n",
    "        else:\n",
    "            print(\"Close enough. Check our suggestion: {i}\".format(i=answer))\n",
    "         \n",
    "            continue_game = input('Want to continue?Enter Yes or No: ')\n",
    " \n",
    "\n",
    "\n",
    "\n",
    "\n",
    "quiz(df)"
   ]
  }
 ],
 "metadata": {
  "kernelspec": {
   "display_name": "Python 3 (ipykernel)",
   "language": "python",
   "name": "python3"
  },
  "language_info": {
   "codemirror_mode": {
    "name": "ipython",
    "version": 3
   },
   "file_extension": ".py",
   "mimetype": "text/x-python",
   "name": "python",
   "nbconvert_exporter": "python",
   "pygments_lexer": "ipython3",
   "version": "3.8.0"
  }
 },
 "nbformat": 4,
 "nbformat_minor": 2
}
