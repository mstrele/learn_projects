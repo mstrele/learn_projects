{
 "cells": [
  {
   "cell_type": "markdown",
   "metadata": {},
   "source": [
    "####Step 1: Make functions for decoding and coding \n",
    "\n",
    "Define two functions `decoder` and `coder` that can be used to quickly decode and code messages given any offset.\n",
    "Try decoding the following phrase with the offset 10.\n",
    "\n",
    "xuo jxuhu! jxyi yi qd unqcfbu ev q squiqh syfxuh. muhu oek qrbu je tusetu yj? y xefu ie! iudt cu q cuiiqwu rqsa myjx jxu iqcu evviuj!"
   ]
  },
  {
   "cell_type": "code",
   "execution_count": null,
   "metadata": {},
   "outputs": [],
   "source": [
    "alphabet = \"abcdefghijklmnopqrstuvwxyz\"\n",
    "punct = \".,?'!: \"\n",
    "messege_de = input(\"Input your messeege to decode here: \")\n",
    "\n",
    "def decoder(messege_de, offset):\n",
    "    result = \"\"\n",
    "    for i in messege_de:\n",
    "        if not i in punct:\n",
    "            letter_val = alphabet.find(i)\n",
    "            result += alphabet[(letter_val + offset) % 26]\n",
    "        else:\n",
    "            result += i\n",
    "    return result\n",
    "\n",
    "print(decoder(messege_de, 10))\n",
    "\n"
   ]
  },
  {
   "cell_type": "markdown",
   "metadata": {},
   "source": [
    "The following function lets us encode any phrase with the given offset.\n",
    "We can try coding 'Hello, world!'. Which will result in 'lqxxa, iadxp!' with the offset 14."
   ]
  },
  {
   "cell_type": "code",
   "execution_count": null,
   "metadata": {},
   "outputs": [],
   "source": [
    "\n",
    "\n",
    "messege_co = input(\"Input your messeege to code here: \")\n",
    "def coder(messege_co, offset):\n",
    "    result = \"\"\n",
    "    for i in messege_co:\n",
    "        if not i in punct:\n",
    "            letter_val = alphabet.find(i)\n",
    "            result += alphabet[(letter_val - offset) % 26]\n",
    "        else:\n",
    "            result += i\n",
    "    return result\n",
    "\n",
    "coder(messege_co, 14)"
   ]
  },
  {
   "cell_type": "markdown",
   "metadata": {},
   "source": [
    "#### Step 2: Solving a Caesar Cipher without knowing the shift value\n",
    "  Here's the coded message:\n",
    "            \n",
    "      vhfinmxkl atox kxgwxkxw tee hy maxlx hew vbiaxkl tl hulhexmx. px'ee atox mh kxteer lmxi ni hnk ztfx by px ptgm mh dxxi hnk fxlltzxl ltyx.\n",
    "            \n",
    "         \n",
    "            \n",
    "We are going to use brute force to decode the message. "
   ]
  },
  {
   "cell_type": "code",
   "execution_count": null,
   "metadata": {},
   "outputs": [],
   "source": [
    "alphabet = \"abcdefghijklmnopqrstuvwxyz\"\n",
    "punct = \".,?'!: \"\n",
    "messege_de = input(\"Input your messeege to decode here: \")\n",
    "\n",
    "def decoder(messege_de, offset):\n",
    "    result = \"\"\n",
    "    for i in messege_de:\n",
    "        if not i in punct:\n",
    "            letter_val = alphabet.find(i)\n",
    "            result += alphabet[(letter_val + offset) % 26]\n",
    "        else:\n",
    "            result += i\n",
    "    return result\n",
    "\n",
    "\n",
    "for i in range(26):\n",
    "    print(decoder(messege_de, i))"
   ]
  },
  {
   "cell_type": "markdown",
   "metadata": {},
   "source": [
    "#### Step 3: The Vigenère Cipher\n",
    "\n",
    "            \n",
    "           The Vigenère Cipher is a polyalphabetic substitution cipher, as opposed to the Caesar Cipher which was a monoalphabetic substitution cipher. What this means is that opposed to having a single shift that is applied to every letter, the Vigenère Cipher has a different shift for each individual letter. The value of the shift for each letter is determined by a given keyword.\n",
    "           \n",
    "           Consider the message\n",
    "           \n",
    "               barry is the spy\n",
    "\n",
    "           If we want to code this message, first we choose a keyword. For this example, we'll use the keyword\n",
    "           \n",
    "               dog\n",
    "               \n",
    "           Now we use the repeat the keyword over and over to generate a _keyword phrase_ that is the same length as the message we want to code. So if we want to code the message \"barry is the spy\" our _keyword phrase_ is \"dogdo gd ogd ogd\". Now we are ready to start coding our message. We shift the each letter of our message by the place value of the corresponding letter in the keyword phrase, assuming that \"a\" has a place value of 0, \"b\" has a place value of 1, and so forth. \n",
    "\n",
    "                        message:       b  a  r  r  y    i  s   t  h  e   s  p  y\n",
    "                \n",
    "                 keyword phrase:       d  o  g  d  o    g  d   o  g  d   o  g  d\n",
    "                 \n",
    "          resulting place value:       4  14 15 12 16   24 11  21 25 22  22 17 5\n",
    "      \n",
    "            So we shift \"b\", which has an index of 1, by the index of \"d\", which is 3. This gives us an place value of 4, which is \"e\". Then continue the trend: we shift \"a\" by the place value of \"o\", 14, and get \"o\" again, we shift \"r\" by the place value of \"g\", 15, and get \"x\", shift the next \"r\" by 12 places and \"u\", and so forth. Once we complete all the shifts we end up with our coded message:\n",
    "            \n",
    "                eoxum ov hnh gvb\n",
    "                \n",
    "here's the message to decode:\n",
    "            \n",
    "                dfc aruw fsti gr vjtwhr wznj? vmph otis! cbx swv jipreneo uhllj kpi rahjib eg fjdkwkedhmp!\n",
    "                \n",
    "and the keyword is \n",
    "            \n",
    "                friends\n",
    "                \n",
    "\n",
    "        "
   ]
  },
  {
   "cell_type": "code",
   "execution_count": null,
   "metadata": {},
   "outputs": [],
   "source": [
    "alphabet = \"abcdefghijklmnopqrstuvwxyz\"\n",
    "punct = \".,?'!: \"\n",
    "messege_de = input(\"Input your messeege to decode here: \")\n",
    "\n",
    "\n",
    "\n",
    "def vigenere_decoder(messege_de, keyword):\n",
    "    letter_count = 0\n",
    "    keyword_final = ''\n",
    "    for i in range(0,len(messege_de)):\n",
    "        if messege_de[i] in punct:\n",
    "            keyword_final += messege_de[i]\n",
    "        else:\n",
    "            keyword_final += keyword[letter_count]\n",
    "            letter_count = (letter_count+1)%len(keyword)\n",
    "    decoded_message = ''\n",
    "    for i in range(0,len(messege_de)):    \n",
    "        if not messege_de[i] in punct:\n",
    "            ln = alphabet.find(messege_de[i]) - alphabet.find(keyword_final[i])\n",
    "            decoded_message += alphabet[ln % 26]\n",
    "        else:\n",
    "            decoded_message += messege_de[i]\n",
    "    return decoded_message\n",
    "\n",
    "\n",
    "keyword = \"besties\"\n",
    "\n",
    "print(vigenere_decoder(messege_de, keyword))"
   ]
  },
  {
   "cell_type": "markdown",
   "metadata": {
    "collapsed": true
   },
   "source": [
    "#### Step 4: Send a message with the  Vigenère Cipher\n",
    "Write a function that can encode a message using a given keyword and write out a message.\n",
    "Encode amy phrase you want. \n"
   ]
  },
  {
   "cell_type": "code",
   "execution_count": null,
   "metadata": {},
   "outputs": [],
   "source": [
    "alphabet = \"abcdefghijklmnopqrstuvwxyz\"\n",
    "punct = \".,?'!: \"\n",
    "messege_de = input(\"Input your messeege to decode here: \")\n",
    "\n",
    "\n",
    "def vigenere_coder(messege_de, keyword):\n",
    "    keyword_repeated = ''\n",
    "    while len(keyword_repeated) < len(messege_de):    \n",
    "        keyword_repeated += keyword\n",
    "    keyword_final = keyword_repeated[0:len(messege_de)]\n",
    "    coded_message = ''\n",
    "    for i in range(0,len(messege_de)):\n",
    "        if messege_de[i] not in punct:\n",
    "            ln = alphabet.find(messege_de[i]) + alphabet.find(keyword_final[i])\n",
    "            coded_message += alphabet[ln % 26]\n",
    "        else:\n",
    "            coded_message += messege_de[i]\n",
    "    return coded_message\n",
    "\n",
    "#phrase to encode \"thanks for teaching me all these cool ciphers! you really are the best!\"\n",
    "keyword_c = \"besties\"\n",
    "\n",
    "print(vigenere_coder(messege_de, keyword_c))\n"
   ]
  }
 ],
 "metadata": {
  "kernelspec": {
   "display_name": "Python 3 (ipykernel)",
   "language": "python",
   "name": "python3"
  },
  "language_info": {
   "codemirror_mode": {
    "name": "ipython",
    "version": 3
   },
   "file_extension": ".py",
   "mimetype": "text/x-python",
   "name": "python",
   "nbconvert_exporter": "python",
   "pygments_lexer": "ipython3",
   "version": "3.9.7"
  }
 },
 "nbformat": 4,
 "nbformat_minor": 2
}
