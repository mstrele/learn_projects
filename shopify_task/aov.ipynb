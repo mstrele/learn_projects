{
 "cells": [
  {
   "cell_type": "markdown",
   "metadata": {},
   "source": [
    "\n",
    "On Shopify, we have exactly 100 sneaker shops, and each of these shops sells only one model of shoe. We want to do some analysis of the average order value (AOV). When we look at orders data over a 30 day window, we naively calculate an AOV of $3145.13. Given that we know these shops are selling sneakers, a relatively affordable item, something seems wrong with our analysis. \n",
    "\n",
    "- Think about what could be going wrong with our calculation. Think about a better way to evaluate this data. \n",
    "- What metric would you report for this dataset?\n",
    "- What is its value?\n"
   ]
  },
  {
   "cell_type": "code",
   "execution_count": 17,
   "metadata": {},
   "outputs": [],
   "source": [
    "import numpy as np \n",
    "import pandas as pd\n",
    "import seaborn as sns\n",
    "import matplotlib.pyplot as plt\n",
    "from scipy.stats import iqr\n",
    "\n",
    "\n",
    "import os\n",
    "\n",
    "\n",
    "df = pd.read_csv('2019 Winter Data Science Intern Challenge Data Set - Sheet1.csv')"
   ]
  },
  {
   "cell_type": "code",
   "execution_count": 18,
   "metadata": {},
   "outputs": [
    {
     "name": "stdout",
     "output_type": "stream",
     "text": [
      "   order_id  shop_id  user_id  order_amount  total_items payment_method  \\\n",
      "0         1       53      746           224            2           cash   \n",
      "1         2       92      925            90            1           cash   \n",
      "2         3       44      861           144            1           cash   \n",
      "3         4       18      935           156            1    credit_card   \n",
      "4         5       18      883           156            1    credit_card   \n",
      "5         6       58      882           138            1    credit_card   \n",
      "6         7       87      915           149            1           cash   \n",
      "7         8       22      761           292            2           cash   \n",
      "8         9       64      914           266            2          debit   \n",
      "9        10       52      788           146            1    credit_card   \n",
      "\n",
      "            created_at  \n",
      "0  2017-03-13 12:36:56  \n",
      "1  2017-03-03 17:38:52  \n",
      "2   2017-03-14 4:23:56  \n",
      "3  2017-03-26 12:43:37  \n",
      "4   2017-03-01 4:35:11  \n",
      "5  2017-03-14 15:25:01  \n",
      "6  2017-03-01 21:37:57  \n",
      "7   2017-03-08 2:05:38  \n",
      "8  2017-03-17 20:56:50  \n",
      "9  2017-03-30 21:08:26  \n"
     ]
    }
   ],
   "source": [
    "print(df.head(10))"
   ]
  },
  {
   "cell_type": "code",
   "execution_count": 19,
   "metadata": {},
   "outputs": [
    {
     "data": {
      "text/html": [
       "<div>\n",
       "<style scoped>\n",
       "    .dataframe tbody tr th:only-of-type {\n",
       "        vertical-align: middle;\n",
       "    }\n",
       "\n",
       "    .dataframe tbody tr th {\n",
       "        vertical-align: top;\n",
       "    }\n",
       "\n",
       "    .dataframe thead th {\n",
       "        text-align: right;\n",
       "    }\n",
       "</style>\n",
       "<table border=\"1\" class=\"dataframe\">\n",
       "  <thead>\n",
       "    <tr style=\"text-align: right;\">\n",
       "      <th></th>\n",
       "      <th>order_id</th>\n",
       "      <th>shop_id</th>\n",
       "      <th>user_id</th>\n",
       "      <th>order_amount</th>\n",
       "      <th>total_items</th>\n",
       "    </tr>\n",
       "  </thead>\n",
       "  <tbody>\n",
       "    <tr>\n",
       "      <th>count</th>\n",
       "      <td>5000.000000</td>\n",
       "      <td>5000.000000</td>\n",
       "      <td>5000.000000</td>\n",
       "      <td>5000.000000</td>\n",
       "      <td>5000.00000</td>\n",
       "    </tr>\n",
       "    <tr>\n",
       "      <th>mean</th>\n",
       "      <td>2500.500000</td>\n",
       "      <td>50.078800</td>\n",
       "      <td>849.092400</td>\n",
       "      <td>3145.128000</td>\n",
       "      <td>8.78720</td>\n",
       "    </tr>\n",
       "    <tr>\n",
       "      <th>std</th>\n",
       "      <td>1443.520003</td>\n",
       "      <td>29.006118</td>\n",
       "      <td>87.798982</td>\n",
       "      <td>41282.539349</td>\n",
       "      <td>116.32032</td>\n",
       "    </tr>\n",
       "    <tr>\n",
       "      <th>min</th>\n",
       "      <td>1.000000</td>\n",
       "      <td>1.000000</td>\n",
       "      <td>607.000000</td>\n",
       "      <td>90.000000</td>\n",
       "      <td>1.00000</td>\n",
       "    </tr>\n",
       "    <tr>\n",
       "      <th>25%</th>\n",
       "      <td>1250.750000</td>\n",
       "      <td>24.000000</td>\n",
       "      <td>775.000000</td>\n",
       "      <td>163.000000</td>\n",
       "      <td>1.00000</td>\n",
       "    </tr>\n",
       "    <tr>\n",
       "      <th>50%</th>\n",
       "      <td>2500.500000</td>\n",
       "      <td>50.000000</td>\n",
       "      <td>849.000000</td>\n",
       "      <td>284.000000</td>\n",
       "      <td>2.00000</td>\n",
       "    </tr>\n",
       "    <tr>\n",
       "      <th>75%</th>\n",
       "      <td>3750.250000</td>\n",
       "      <td>75.000000</td>\n",
       "      <td>925.000000</td>\n",
       "      <td>390.000000</td>\n",
       "      <td>3.00000</td>\n",
       "    </tr>\n",
       "    <tr>\n",
       "      <th>max</th>\n",
       "      <td>5000.000000</td>\n",
       "      <td>100.000000</td>\n",
       "      <td>999.000000</td>\n",
       "      <td>704000.000000</td>\n",
       "      <td>2000.00000</td>\n",
       "    </tr>\n",
       "  </tbody>\n",
       "</table>\n",
       "</div>"
      ],
      "text/plain": [
       "          order_id      shop_id      user_id   order_amount  total_items\n",
       "count  5000.000000  5000.000000  5000.000000    5000.000000   5000.00000\n",
       "mean   2500.500000    50.078800   849.092400    3145.128000      8.78720\n",
       "std    1443.520003    29.006118    87.798982   41282.539349    116.32032\n",
       "min       1.000000     1.000000   607.000000      90.000000      1.00000\n",
       "25%    1250.750000    24.000000   775.000000     163.000000      1.00000\n",
       "50%    2500.500000    50.000000   849.000000     284.000000      2.00000\n",
       "75%    3750.250000    75.000000   925.000000     390.000000      3.00000\n",
       "max    5000.000000   100.000000   999.000000  704000.000000   2000.00000"
      ]
     },
     "execution_count": 19,
     "metadata": {},
     "output_type": "execute_result"
    }
   ],
   "source": [
    "df.describe()"
   ]
  },
  {
   "cell_type": "markdown",
   "metadata": {},
   "source": [
    "Having looked at the data above it's easy to assume where number 3145.13 comes from (order_amount mean). Max value in *order_amount* column is abnormally high - 704000. That means that the dataset is skewed which aslo needs a closer look. This number is also believed to be the reason or one of the reasons for such a big standard deviation value - 41282.53. At this moment, one can conclude that the mean of this data is not the best idea to get **AOV**."
   ]
  },
  {
   "cell_type": "code",
   "execution_count": 20,
   "metadata": {},
   "outputs": [
    {
     "name": "stdout",
     "output_type": "stream",
     "text": [
      "<class 'pandas.core.frame.DataFrame'>\n",
      "RangeIndex: 5000 entries, 0 to 4999\n",
      "Data columns (total 7 columns):\n",
      " #   Column          Non-Null Count  Dtype \n",
      "---  ------          --------------  ----- \n",
      " 0   order_id        5000 non-null   int64 \n",
      " 1   shop_id         5000 non-null   int64 \n",
      " 2   user_id         5000 non-null   int64 \n",
      " 3   order_amount    5000 non-null   int64 \n",
      " 4   total_items     5000 non-null   int64 \n",
      " 5   payment_method  5000 non-null   object\n",
      " 6   created_at      5000 non-null   object\n",
      "dtypes: int64(5), object(2)\n",
      "memory usage: 234.4+ KB\n"
     ]
    }
   ],
   "source": [
    "df.info()"
   ]
  },
  {
   "cell_type": "markdown",
   "metadata": {},
   "source": [
    "`.info()` gives us the understanding of the datatypes in our dataset. Since the majority of our data are numbers, the majority of datatypes are **int64**. \n",
    "\n",
    "**Two** types however dragged my attention. \n",
    "- order_amount\n",
    "- created_at \n",
    "\n",
    "1. **order_amount** would be expected to be a *float* value rather that an *integer* since prices usually include cents(coins). We will suppose that the values in this column were rounded and changed to *int* on purpuse. At this point, let's leave it as is.\n",
    "2. **created_at** is type *object* here. However, it will be nice to convert it to **datetime** in case we need to perform some operations on it.\n"
   ]
  },
  {
   "cell_type": "code",
   "execution_count": 21,
   "metadata": {},
   "outputs": [
    {
     "name": "stdout",
     "output_type": "stream",
     "text": [
      "<class 'pandas.core.frame.DataFrame'>\n",
      "RangeIndex: 5000 entries, 0 to 4999\n",
      "Data columns (total 7 columns):\n",
      " #   Column          Non-Null Count  Dtype         \n",
      "---  ------          --------------  -----         \n",
      " 0   order_id        5000 non-null   int64         \n",
      " 1   shop_id         5000 non-null   int64         \n",
      " 2   user_id         5000 non-null   int64         \n",
      " 3   order_amount    5000 non-null   int64         \n",
      " 4   total_items     5000 non-null   int64         \n",
      " 5   payment_method  5000 non-null   object        \n",
      " 6   created_at      5000 non-null   datetime64[ns]\n",
      "dtypes: datetime64[ns](1), int64(5), object(1)\n",
      "memory usage: 254.0+ KB\n"
     ]
    }
   ],
   "source": [
    "#converts the created_at column to datetime64 datatype\n",
    "df['created_at']=pd.to_datetime(df['created_at'])\n",
    "\n",
    "#check the result\n",
    "df.info()"
   ]
  },
  {
   "cell_type": "markdown",
   "metadata": {},
   "source": [
    "Now we can start analyzing our **order_amount** column. Let's start with a simple boxplot.\n",
    "As expected, there are a few outliers on top of the plot and they are pretty far from the vast values. The majority of our values are below 100,000 and closer to 0."
   ]
  },
  {
   "cell_type": "code",
   "execution_count": 22,
   "metadata": {},
   "outputs": [
    {
     "data": {
      "text/plain": [
       "<AxesSubplot:>"
      ]
     },
     "execution_count": 22,
     "metadata": {},
     "output_type": "execute_result"
    },
    {
     "data": {
      "image/png": "[encoded data removed]",
      "text/plain": [
       "<Figure size 432x288 with 1 Axes>"
      ]
     },
     "metadata": {
      "needs_background": "light"
     },
     "output_type": "display_data"
    }
   ],
   "source": [
    "df.boxplot(column='order_amount')\n"
   ]
  },
  {
   "cell_type": "markdown",
   "metadata": {},
   "source": [
    "We can plot the data using `distplot()` to check the skewness of our dataset. We can also use `.skew()` to check how much it is skewed. Usually, we would expect the skew to be between -1 and 1. In our dataset, it is 16,68! In another case, we could use numpy's `.log()` or another data tramsformation method to normalize or standardize the data but our case is not the case since skew is too high."
   ]
  },
  {
   "cell_type": "code",
   "execution_count": 23,
   "metadata": {},
   "outputs": [
    {
     "name": "stderr",
     "output_type": "stream",
     "text": [
      "c:\\Program Files (x86)\\Python38-32\\lib\\site-packages\\seaborn\\distributions.py:2619: FutureWarning: `distplot` is a deprecated function and will be removed in a future version. Please adapt your code to use either `displot` (a figure-level function with similar flexibility) or `histplot` (an axes-level function for histograms).\n",
      "  warnings.warn(msg, FutureWarning)\n"
     ]
    },
    {
     "name": "stdout",
     "output_type": "stream",
     "text": [
      "16.675033432503792\n"
     ]
    },
    {
     "data": {
      "image/png": "[encoded data removed]",
      "text/plain": [
       "<Figure size 432x288 with 1 Axes>"
      ]
     },
     "metadata": {
      "needs_background": "light"
     },
     "output_type": "display_data"
    }
   ],
   "source": [
    "order_am = df['order_amount']\n",
    "sns.distplot(order_am)\n",
    "print(order_am.skew())"
   ]
  },
  {
   "cell_type": "markdown",
   "metadata": {},
   "source": [
    "It would be right to sort the values in **order_amount** to get the details of the *highest* values in this column which skew our data.\n",
    "\n",
    "We want to know:\n",
    "- who made such orders; \n",
    "- when somebody made these orders; \n",
    "- how many items they ordered;\n",
    "- which shop the amount was ordered from;\n",
    "- payment method would be also interesting to check since if somebody paid 704,000 cash that would be at least suspicious."
   ]
  },
  {
   "cell_type": "code",
   "execution_count": 24,
   "metadata": {},
   "outputs": [
    {
     "name": "stdout",
     "output_type": "stream",
     "text": [
      "      order_id  shop_id  user_id  order_amount  total_items payment_method  \\\n",
      "2153      2154       42      607        704000         2000    credit_card   \n",
      "3332      3333       42      607        704000         2000    credit_card   \n",
      "520        521       42      607        704000         2000    credit_card   \n",
      "1602      1603       42      607        704000         2000    credit_card   \n",
      "60          61       42      607        704000         2000    credit_card   \n",
      "2835      2836       42      607        704000         2000    credit_card   \n",
      "4646      4647       42      607        704000         2000    credit_card   \n",
      "2297      2298       42      607        704000         2000    credit_card   \n",
      "1436      1437       42      607        704000         2000    credit_card   \n",
      "4882      4883       42      607        704000         2000    credit_card   \n",
      "4056      4057       42      607        704000         2000    credit_card   \n",
      "15          16       42      607        704000         2000    credit_card   \n",
      "1104      1105       42      607        704000         2000    credit_card   \n",
      "1562      1563       42      607        704000         2000    credit_card   \n",
      "2969      2970       42      607        704000         2000    credit_card   \n",
      "4868      4869       42      607        704000         2000    credit_card   \n",
      "1362      1363       42      607        704000         2000    credit_card   \n",
      "691        692       78      878        154350            6          debit   \n",
      "2492      2493       78      834        102900            4          debit   \n",
      "3724      3725       78      766         77175            3    credit_card   \n",
      "4420      4421       78      969         77175            3          debit   \n",
      "4192      4193       78      787         77175            3    credit_card   \n",
      "3403      3404       78      928         77175            3          debit   \n",
      "2690      2691       78      962         77175            3          debit   \n",
      "2564      2565       78      915         77175            3          debit   \n",
      "4715      4716       78      818         77175            3          debit   \n",
      "1259      1260       78      775         77175            3    credit_card   \n",
      "2906      2907       78      817         77175            3          debit   \n",
      "3705      3706       78      828         51450            2    credit_card   \n",
      "3101      3102       78      855         51450            2    credit_card   \n",
      "4412      4413       78      756         51450            2          debit   \n",
      "3167      3168       78      927         51450            2           cash   \n",
      "490        491       78      936         51450            2          debit   \n",
      "4079      4080       78      946         51450            2           cash   \n",
      "1529      1530       78      810         51450            2           cash   \n",
      "4311      4312       78      960         51450            2          debit   \n",
      "2818      2819       78      869         51450            2          debit   \n",
      "2821      2822       78      814         51450            2           cash   \n",
      "617        618       78      760         51450            2           cash   \n",
      "2512      2513       78      935         51450            2          debit   \n",
      "511        512       78      967         51450            2           cash   \n",
      "2452      2453       78      709         51450            2           cash   \n",
      "493        494       78      983         51450            2           cash   \n",
      "2495      2496       78      707         51450            2           cash   \n",
      "4040      4041       78      852         25725            1           cash   \n",
      "4918      4919       78      823         25725            1           cash   \n",
      "1056      1057       78      800         25725            1          debit   \n",
      "2922      2923       78      740         25725            1          debit   \n",
      "2270      2271       78      855         25725            1    credit_card   \n",
      "1193      1194       78      944         25725            1          debit   \n",
      "\n",
      "              created_at  \n",
      "2153 2017-03-12 04:00:00  \n",
      "3332 2017-03-24 04:00:00  \n",
      "520  2017-03-02 04:00:00  \n",
      "1602 2017-03-17 04:00:00  \n",
      "60   2017-03-04 04:00:00  \n",
      "2835 2017-03-28 04:00:00  \n",
      "4646 2017-03-02 04:00:00  \n",
      "2297 2017-03-07 04:00:00  \n",
      "1436 2017-03-11 04:00:00  \n",
      "4882 2017-03-25 04:00:00  \n",
      "4056 2017-03-28 04:00:00  \n",
      "15   2017-03-07 04:00:00  \n",
      "1104 2017-03-24 04:00:00  \n",
      "1562 2017-03-19 04:00:00  \n",
      "2969 2017-03-28 04:00:00  \n",
      "4868 2017-03-22 04:00:00  \n",
      "1362 2017-03-15 04:00:00  \n",
      "691  2017-03-27 22:51:43  \n",
      "2492 2017-03-04 04:37:34  \n",
      "3724 2017-03-16 14:13:26  \n",
      "4420 2017-03-09 15:21:35  \n",
      "4192 2017-03-18 09:25:32  \n",
      "3403 2017-03-16 09:45:05  \n",
      "2690 2017-03-22 07:33:25  \n",
      "2564 2017-03-25 01:19:35  \n",
      "4715 2017-03-05 05:10:44  \n",
      "1259 2017-03-27 09:27:20  \n",
      "2906 2017-03-16 03:45:46  \n",
      "3705 2017-03-14 20:43:15  \n",
      "3101 2017-03-21 05:10:34  \n",
      "4412 2017-03-02 04:13:39  \n",
      "3167 2017-03-12 12:23:08  \n",
      "490  2017-03-26 17:08:19  \n",
      "4079 2017-03-20 21:14:00  \n",
      "1529 2017-03-29 07:12:01  \n",
      "4311 2017-03-01 03:02:10  \n",
      "2818 2017-03-17 06:25:51  \n",
      "2821 2017-03-02 17:13:25  \n",
      "617  2017-03-18 11:18:42  \n",
      "2512 2017-03-18 18:57:13  \n",
      "511  2017-03-09 07:23:14  \n",
      "2452 2017-03-27 11:04:04  \n",
      "493  2017-03-16 21:39:35  \n",
      "2495 2017-03-26 04:38:52  \n",
      "4040 2017-03-02 14:31:12  \n",
      "4918 2017-03-15 13:26:46  \n",
      "1056 2017-03-15 10:16:45  \n",
      "2922 2017-03-12 20:10:58  \n",
      "2270 2017-03-14 23:58:22  \n",
      "1193 2017-03-16 16:38:26  \n"
     ]
    }
   ],
   "source": [
    "sorted_df = df.sort_values(by='order_amount', ascending=False)\n",
    "print(sorted_df.head(50))\n"
   ]
  },
  {
   "cell_type": "markdown",
   "metadata": {},
   "source": [
    "Aslo we can count how often these values appear by grouping them."
   ]
  },
  {
   "cell_type": "code",
   "execution_count": 25,
   "metadata": {},
   "outputs": [
    {
     "name": "stdout",
     "output_type": "stream",
     "text": [
      "      shop_id  order_amount  total_items  user_id  count\n",
      "2051       42        704000         2000      607     17\n",
      "3792       78        154350            6      878      1\n",
      "3791       78        102900            4      834      1\n",
      "3786       78         77175            3      818      1\n",
      "3785       78         77175            3      817      1\n",
      "3788       78         77175            3      928      1\n",
      "3789       78         77175            3      962      1\n",
      "3784       78         77175            3      787      1\n",
      "3783       78         77175            3      775      1\n",
      "3782       78         77175            3      766      1\n",
      "3790       78         77175            3      969      1\n",
      "3787       78         77175            3      915      1\n",
      "3769       78         51450            2      760      1\n",
      "3781       78         51450            2      983      1\n",
      "3780       78         51450            2      967      1\n",
      "3779       78         51450            2      960      1\n",
      "3778       78         51450            2      946      1\n",
      "3777       78         51450            2      936      1\n",
      "3775       78         51450            2      927      1\n",
      "3774       78         51450            2      869      1\n",
      "3773       78         51450            2      855      1\n",
      "3772       78         51450            2      828      1\n",
      "3771       78         51450            2      814      1\n",
      "3770       78         51450            2      810      1\n",
      "3766       78         51450            2      707      1\n",
      "3767       78         51450            2      709      1\n",
      "3776       78         51450            2      935      1\n",
      "3768       78         51450            2      756      1\n",
      "3754       78         25725            1      861      1\n",
      "3757       78         25725            1      889      1\n",
      "3751       78         25725            1      823      1\n",
      "3752       78         25725            1      852      1\n",
      "3748       78         25725            1      745      1\n",
      "3753       78         25725            1      855      1\n",
      "3747       78         25725            1      740      1\n",
      "3755       78         25725            1      866      1\n",
      "3756       78         25725            1      867      1\n",
      "3758       78         25725            1      890      1\n",
      "3749       78         25725            1      800      1\n",
      "3759       78         25725            1      910      1\n",
      "3760       78         25725            1      912      1\n",
      "3761       78         25725            1      944      1\n",
      "3762       78         25725            1      970      1\n",
      "3763       78         25725            1      982      1\n",
      "3764       78         25725            1      990      1\n",
      "3765       78         25725            1      997      1\n",
      "3750       78         25725            1      812      1\n",
      "2050       42          1760            5      797      1\n",
      "2049       42          1408            4      926      1\n",
      "2048       42          1408            4      907      1\n"
     ]
    }
   ],
   "source": [
    "val_grouped = df.groupby(['shop_id','order_amount', 'total_items','user_id' ]).size().reset_index(name='count').sort_values(by = 'order_amount', ascending=False)\n",
    "print(val_grouped.head(50))"
   ]
  },
  {
   "cell_type": "markdown",
   "metadata": {},
   "source": [
    "The code above let us understand that 2 shops - 78 and 42 need attention. \n",
    "\n",
    "1. Shop 78:\n",
    "   - sells one item for the price of 25725;\n",
    "   - the customers are diverse with differnte payment methods and purchase times.\n",
    "\n",
    "2. Shop 42:\n",
    "   - user 607 ordered 2000 items 17 times in one month\n",
    "   - user 607 always paid with a credit card\n",
    "   - user 607 made orders at 4 am regularly\n",
    "   - if we group by time, we will see that there are 3 orders made is **less than 1 second by user 607**\n",
    "   - ATTENTION: not all purchases are this big. There are aslo *normal* values in shop 42 in the column **order_amount**. \n",
    "\n",
    "The code below proves it ->"
   ]
  },
  {
   "cell_type": "code",
   "execution_count": 26,
   "metadata": {},
   "outputs": [
    {
     "name": "stdout",
     "output_type": "stream",
     "text": [
      "     shop_id  order_amount  count\n",
      "188       42          1056      3\n",
      "186       42           352     15\n",
      "187       42           704     13\n",
      "189       42          1408      2\n",
      "190       42          1760      1\n",
      "191       42        704000     17\n"
     ]
    }
   ],
   "source": [
    "unique_shops = df.groupby(['shop_id','order_amount']).size().reset_index(name='count').sort_values(by = 'shop_id', ascending=False)\n",
    "print(unique_shops.loc[unique_shops['shop_id'].isin([42])])"
   ]
  },
  {
   "cell_type": "markdown",
   "metadata": {},
   "source": [
    "### Conclusions at this step\n",
    "- Seems as if shop 42 gets regular **fraud atacks** at 4:00 am exactly some days, since they order 2000 shoes (which is an unusual amount). It can also be confirmed by the information that the user makes 3 orders in less than 1 second. The shop requires security analisys, perhaps. High values are not a problem here as they will not be included in IQR and further analysis.\n",
    "- Shop 78 sells a pair of shoes for 25725. Looking at this value and average price for shoes in our dataset, the reasonable price would be 257,25 if we included cents and saved values as floats. Maybe, an error occured when gathering the data or during the convertion process. Perhaps, we will transform these values 100 times less and round them, so that they will be included in further analysis.  "
   ]
  },
  {
   "cell_type": "code",
   "execution_count": 27,
   "metadata": {},
   "outputs": [
    {
     "name": "stdout",
     "output_type": "stream",
     "text": [
      "      order_id  shop_id  user_id  order_amount  total_items payment_method  \\\n",
      "160        161       78      990           257            1    credit_card   \n",
      "490        491       78      936           514            2          debit   \n",
      "493        494       78      983           514            2           cash   \n",
      "511        512       78      967           514            2           cash   \n",
      "617        618       78      760           514            2           cash   \n",
      "691        692       78      878          1544            6          debit   \n",
      "1056      1057       78      800           257            1          debit   \n",
      "1193      1194       78      944           257            1          debit   \n",
      "1204      1205       78      970           257            1    credit_card   \n",
      "1259      1260       78      775           772            3    credit_card   \n",
      "1384      1385       78      867           257            1           cash   \n",
      "1419      1420       78      912           257            1           cash   \n",
      "1452      1453       78      812           257            1    credit_card   \n",
      "1529      1530       78      810           514            2           cash   \n",
      "2270      2271       78      855           257            1    credit_card   \n",
      "2452      2453       78      709           514            2           cash   \n",
      "2492      2493       78      834          1029            4          debit   \n",
      "2495      2496       78      707           514            2           cash   \n",
      "2512      2513       78      935           514            2          debit   \n",
      "2548      2549       78      861           257            1           cash   \n",
      "2564      2565       78      915           772            3          debit   \n",
      "2690      2691       78      962           772            3          debit   \n",
      "2773      2774       78      890           257            1           cash   \n",
      "2818      2819       78      869           514            2          debit   \n",
      "2821      2822       78      814           514            2           cash   \n",
      "2906      2907       78      817           772            3          debit   \n",
      "2922      2923       78      740           257            1          debit   \n",
      "3085      3086       78      910           257            1           cash   \n",
      "3101      3102       78      855           514            2    credit_card   \n",
      "3151      3152       78      745           257            1    credit_card   \n",
      "3167      3168       78      927           514            2           cash   \n",
      "3403      3404       78      928           772            3          debit   \n",
      "3440      3441       78      982           257            1          debit   \n",
      "3705      3706       78      828           514            2    credit_card   \n",
      "3724      3725       78      766           772            3    credit_card   \n",
      "3780      3781       78      889           257            1           cash   \n",
      "4040      4041       78      852           257            1           cash   \n",
      "4079      4080       78      946           514            2           cash   \n",
      "4192      4193       78      787           772            3    credit_card   \n",
      "4311      4312       78      960           514            2          debit   \n",
      "4412      4413       78      756           514            2          debit   \n",
      "4420      4421       78      969           772            3          debit   \n",
      "4505      4506       78      866           257            1          debit   \n",
      "4584      4585       78      997           257            1           cash   \n",
      "4715      4716       78      818           772            3          debit   \n",
      "4918      4919       78      823           257            1           cash   \n",
      "\n",
      "              created_at  \n",
      "160  2017-03-12 05:56:57  \n",
      "490  2017-03-26 17:08:19  \n",
      "493  2017-03-16 21:39:35  \n",
      "511  2017-03-09 07:23:14  \n",
      "617  2017-03-18 11:18:42  \n",
      "691  2017-03-27 22:51:43  \n",
      "1056 2017-03-15 10:16:45  \n",
      "1193 2017-03-16 16:38:26  \n",
      "1204 2017-03-17 22:32:21  \n",
      "1259 2017-03-27 09:27:20  \n",
      "1384 2017-03-17 16:38:06  \n",
      "1419 2017-03-30 12:23:43  \n",
      "1452 2017-03-17 18:09:54  \n",
      "1529 2017-03-29 07:12:01  \n",
      "2270 2017-03-14 23:58:22  \n",
      "2452 2017-03-27 11:04:04  \n",
      "2492 2017-03-04 04:37:34  \n",
      "2495 2017-03-26 04:38:52  \n",
      "2512 2017-03-18 18:57:13  \n",
      "2548 2017-03-17 19:36:00  \n",
      "2564 2017-03-25 01:19:35  \n",
      "2690 2017-03-22 07:33:25  \n",
      "2773 2017-03-26 10:36:43  \n",
      "2818 2017-03-17 06:25:51  \n",
      "2821 2017-03-02 17:13:25  \n",
      "2906 2017-03-16 03:45:46  \n",
      "2922 2017-03-12 20:10:58  \n",
      "3085 2017-03-26 01:59:27  \n",
      "3101 2017-03-21 05:10:34  \n",
      "3151 2017-03-18 13:13:07  \n",
      "3167 2017-03-12 12:23:08  \n",
      "3403 2017-03-16 09:45:05  \n",
      "3440 2017-03-19 19:02:54  \n",
      "3705 2017-03-14 20:43:15  \n",
      "3724 2017-03-16 14:13:26  \n",
      "3780 2017-03-11 21:14:50  \n",
      "4040 2017-03-02 14:31:12  \n",
      "4079 2017-03-20 21:14:00  \n",
      "4192 2017-03-18 09:25:32  \n",
      "4311 2017-03-01 03:02:10  \n",
      "4412 2017-03-02 04:13:39  \n",
      "4420 2017-03-09 15:21:35  \n",
      "4505 2017-03-22 22:06:01  \n",
      "4584 2017-03-25 21:48:44  \n",
      "4715 2017-03-05 05:10:44  \n",
      "4918 2017-03-15 13:26:46  \n"
     ]
    }
   ],
   "source": [
    "#convert the order_amount in shop 78\n",
    "df['order_amount'][df['shop_id'] == 78] = round(df['order_amount'][df['shop_id'] == 78].div(100), 0)\n",
    "pd.options.mode.chained_assignment = None\n",
    "#check the results\n",
    "print(df[df['shop_id'] == 78])\n"
   ]
  },
  {
   "cell_type": "markdown",
   "metadata": {},
   "source": [
    "Now we can calculate interquartile range (IQR) and plot it. It should show us the scope of the most reliable data."
   ]
  },
  {
   "cell_type": "code",
   "execution_count": 28,
   "metadata": {},
   "outputs": [
    {
     "data": {
      "text/plain": [
       "<AxesSubplot:>"
      ]
     },
     "execution_count": 28,
     "metadata": {},
     "output_type": "execute_result"
    },
    {
     "data": {
      "image/png": "[encoded data removed]",
      "text/plain": [
       "<Figure size 432x288 with 1 Axes>"
      ]
     },
     "metadata": {
      "needs_background": "light"
     },
     "output_type": "display_data"
    }
   ],
   "source": [
    "q1 = df.order_amount.quantile(q=0.25)\n",
    "q3 = df.order_amount.quantile(q=0.75)\n",
    "IQR = iqr(df.order_amount)\n",
    "\n",
    "df_qtiled = df[(df.order_amount < q3 + IQR * 1.5) & (df.order_amount > q1 - IQR * 1.5)]\n",
    "df_qtiled.boxplot(column='order_amount')"
   ]
  },
  {
   "cell_type": "markdown",
   "metadata": {},
   "source": [
    "The following `.describe()` function shows now a better picture of our data. So now we can think of the relevant AOV reporting. \n",
    "1. We see that the mean is adequate - 294,3\n",
    "2. Standard deviation is aslo believable - 144.5\n",
    "3. Them **medium** of our data is 280. Which I would report as AOV, since the data is skewed and there are obvious outliers."
   ]
  },
  {
   "cell_type": "code",
   "execution_count": 29,
   "metadata": {},
   "outputs": [
    {
     "data": {
      "text/html": [
       "<div>\n",
       "<style scoped>\n",
       "    .dataframe tbody tr th:only-of-type {\n",
       "        vertical-align: middle;\n",
       "    }\n",
       "\n",
       "    .dataframe tbody tr th {\n",
       "        vertical-align: top;\n",
       "    }\n",
       "\n",
       "    .dataframe thead th {\n",
       "        text-align: right;\n",
       "    }\n",
       "</style>\n",
       "<table border=\"1\" class=\"dataframe\">\n",
       "  <thead>\n",
       "    <tr style=\"text-align: right;\">\n",
       "      <th></th>\n",
       "      <th>order_id</th>\n",
       "      <th>shop_id</th>\n",
       "      <th>user_id</th>\n",
       "      <th>order_amount</th>\n",
       "      <th>total_items</th>\n",
       "    </tr>\n",
       "  </thead>\n",
       "  <tbody>\n",
       "    <tr>\n",
       "      <th>count</th>\n",
       "      <td>4894.000000</td>\n",
       "      <td>4894.000000</td>\n",
       "      <td>4894.000000</td>\n",
       "      <td>4894.000000</td>\n",
       "      <td>4894.000000</td>\n",
       "    </tr>\n",
       "    <tr>\n",
       "      <th>mean</th>\n",
       "      <td>2497.809358</td>\n",
       "      <td>50.053944</td>\n",
       "      <td>850.052922</td>\n",
       "      <td>294.293012</td>\n",
       "      <td>1.946669</td>\n",
       "    </tr>\n",
       "    <tr>\n",
       "      <th>std</th>\n",
       "      <td>1442.658530</td>\n",
       "      <td>29.042122</td>\n",
       "      <td>86.876913</td>\n",
       "      <td>144.502938</td>\n",
       "      <td>0.918404</td>\n",
       "    </tr>\n",
       "    <tr>\n",
       "      <th>min</th>\n",
       "      <td>1.000000</td>\n",
       "      <td>1.000000</td>\n",
       "      <td>700.000000</td>\n",
       "      <td>90.000000</td>\n",
       "      <td>1.000000</td>\n",
       "    </tr>\n",
       "    <tr>\n",
       "      <th>25%</th>\n",
       "      <td>1245.250000</td>\n",
       "      <td>24.000000</td>\n",
       "      <td>776.000000</td>\n",
       "      <td>163.000000</td>\n",
       "      <td>1.000000</td>\n",
       "    </tr>\n",
       "    <tr>\n",
       "      <th>50%</th>\n",
       "      <td>2500.500000</td>\n",
       "      <td>50.000000</td>\n",
       "      <td>850.000000</td>\n",
       "      <td>280.000000</td>\n",
       "      <td>2.000000</td>\n",
       "    </tr>\n",
       "    <tr>\n",
       "      <th>75%</th>\n",
       "      <td>3748.750000</td>\n",
       "      <td>75.000000</td>\n",
       "      <td>925.000000</td>\n",
       "      <td>381.000000</td>\n",
       "      <td>3.000000</td>\n",
       "    </tr>\n",
       "    <tr>\n",
       "      <th>max</th>\n",
       "      <td>5000.000000</td>\n",
       "      <td>100.000000</td>\n",
       "      <td>999.000000</td>\n",
       "      <td>730.000000</td>\n",
       "      <td>5.000000</td>\n",
       "    </tr>\n",
       "  </tbody>\n",
       "</table>\n",
       "</div>"
      ],
      "text/plain": [
       "          order_id      shop_id      user_id  order_amount  total_items\n",
       "count  4894.000000  4894.000000  4894.000000   4894.000000  4894.000000\n",
       "mean   2497.809358    50.053944   850.052922    294.293012     1.946669\n",
       "std    1442.658530    29.042122    86.876913    144.502938     0.918404\n",
       "min       1.000000     1.000000   700.000000     90.000000     1.000000\n",
       "25%    1245.250000    24.000000   776.000000    163.000000     1.000000\n",
       "50%    2500.500000    50.000000   850.000000    280.000000     2.000000\n",
       "75%    3748.750000    75.000000   925.000000    381.000000     3.000000\n",
       "max    5000.000000   100.000000   999.000000    730.000000     5.000000"
      ]
     },
     "execution_count": 29,
     "metadata": {},
     "output_type": "execute_result"
    }
   ],
   "source": [
    "df_qtiled.describe()"
   ]
  },
  {
   "cell_type": "markdown",
   "metadata": {},
   "source": [
    "- We can also see that 106 values were excluded as they do not qualify for our IQR. \n",
    "- We can aslo check how many outliers we have in our range -> 56."
   ]
  },
  {
   "cell_type": "code",
   "execution_count": 30,
   "metadata": {},
   "outputs": [
    {
     "name": "stdout",
     "output_type": "stream",
     "text": [
      "56\n",
      "(array([  21,  401,  487,  554,  687,  798,  820,  863,  869,  961, 1104,\n",
      "       1130, 1196, 1305, 1380, 1471, 1490, 1545, 1579, 1597, 1873, 1874,\n",
      "       1876, 1964, 2227, 2264, 2416, 2440, 2498, 2499, 2554, 2603, 2708,\n",
      "       2724, 2728, 2747, 2872, 2936, 2960, 3190, 3521, 3642, 3746, 4010,\n",
      "       4088, 4210, 4241, 4267, 4335, 4425, 4564, 4651, 4670, 4702, 4757,\n",
      "       4811], dtype=int32),)\n"
     ]
    }
   ],
   "source": [
    "array_with_outl = np.where(df_qtiled['order_amount']>700)\n",
    "\n",
    "print(len(array_with_outl[-1]))#the ids of outl in case one needs to analyze them (i.e. customer, shop etc.)\n",
    "print(array_with_outl)\n",
    "\n"
   ]
  },
  {
   "cell_type": "markdown",
   "metadata": {},
   "source": [
    "Also good to consider if we want to improve our business:\n",
    "- purchase frequency \n",
    "- margin value \n",
    "- average basket value (along with margin value)\n",
    "- sales funnel \n"
   ]
  }
 ],
 "metadata": {
  "interpreter": {
   "hash": "6d1e45cadc3597bb8b6600530fbdf8c3eefe919a24ef54d9d32b318795b772e0"
  },
  "kernelspec": {
   "display_name": "Python 3.8.0 32-bit",
   "language": "python",
   "name": "python3"
  },
  "language_info": {
   "codemirror_mode": {
    "name": "ipython",
    "version": 3
   },
   "file_extension": ".py",
   "mimetype": "text/x-python",
   "name": "python",
   "nbconvert_exporter": "python",
   "pygments_lexer": "ipython3",
   "version": "3.8.0"
  },
  "orig_nbformat": 4
 },
 "nbformat": 4,
 "nbformat_minor": 2
}
